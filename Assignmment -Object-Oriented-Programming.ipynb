{
 "cells": [
  {
   "cell_type": "markdown",
   "id": "8c2e916c",
   "metadata": {},
   "source": [
    "## Question 1 Explain the importance of Functions"
   ]
  },
  {
   "cell_type": "code",
   "execution_count": 2,
   "id": "738bb95e",
   "metadata": {},
   "outputs": [
    {
     "name": "stdout",
     "output_type": "stream",
     "text": [
      "importance of function\n",
      " 1.Reuses code efficiently\n",
      " 2.Improves code readability \n",
      " 3.Supports modular programming \n",
      " 4.Simplifies debugging \n",
      " 5.Follows DRY principle\n"
     ]
    }
   ],
   "source": [
    "var_1 = (\"importance of function\")\n",
    "def explain_importance():\n",
    "    print(f\"{var_1}\"+\"\\n 1.Reuses code efficiently\\n 2.Improves code readability \\n 3.Supports modular programming \\n 4.Simplifies debugging \\n 5.Follows DRY principle\")\n",
    "\n",
    "explain_importance()"
   ]
  },
  {
   "cell_type": "markdown",
   "id": "d67f2b8d",
   "metadata": {},
   "source": [
    "## Question 2  Write a basic function to greet students"
   ]
  },
  {
   "cell_type": "code",
   "execution_count": 6,
   "id": "d013e237",
   "metadata": {},
   "outputs": [
    {
     "name": "stdout",
     "output_type": "stream",
     "text": [
      "Good evening\n",
      "Hi Good night\n"
     ]
    }
   ],
   "source": [
    "import datetime\n",
    "hour = datetime.datetime.now().hour\n",
    "greeting = \"Good morning\" if 5<=hour<12 else \"Good afternoon\" if hour<18 else \"Good evening\"\n",
    "print(greeting)\n",
    "\n",
    "import datetime\n",
    "now = datetime.datetime.now()\n",
    "hour = now.hour\n",
    "def func_to_greet(hour):\n",
    "    if hour < 12:\n",
    "        greeting = \"Good morining\"\n",
    "    elif hour < 18:\n",
    "        greeting = \"Good evening\"\n",
    "    else:\n",
    "        greeting = \"Good night\"\n",
    "    return greeting\n",
    "print(f\"Hi\",func_to_greet(hour))"
   ]
  },
  {
   "cell_type": "markdown",
   "id": "1a016f83",
   "metadata": {},
   "source": [
    "## Question 3  What is the difference between print and return statements?"
   ]
  },
  {
   "cell_type": "code",
   "execution_count": 10,
   "id": "d18d62f9",
   "metadata": {},
   "outputs": [
    {
     "name": "stdout",
     "output_type": "stream",
     "text": [
      "4\n"
     ]
    },
    {
     "data": {
      "text/plain": [
       "11"
      ]
     },
     "execution_count": 10,
     "metadata": {},
     "output_type": "execute_result"
    }
   ],
   "source": [
    "def add_and_print(a, b):\n",
    "    print(a + b)   # prints only\n",
    "\n",
    "def add_and_return(a, b):\n",
    "    return a + b   # can be reused\n",
    "add_and_print(1,3)\n",
    "\n",
    "add_and_return(5,6)"
   ]
  },
  {
   "cell_type": "markdown",
   "id": "66a83ba8",
   "metadata": {},
   "source": [
    "## Question 4  What are *args and **kwargs?"
   ]
  },
  {
   "cell_type": "code",
   "execution_count": 11,
   "id": "3db5815a",
   "metadata": {},
   "outputs": [
    {
     "name": "stdout",
     "output_type": "stream",
     "text": [
      "(1, (2, 3), {'x': 10, 'y': 20})\n"
     ]
    }
   ],
   "source": [
    "def demo(a, *args, **kwargs):\n",
    "    return a, args, kwargs\n",
    "\n",
    "print(demo(1,2,3,x=10,y=20))"
   ]
  },
  {
   "cell_type": "markdown",
   "id": "13b383d8",
   "metadata": {},
   "source": [
    "## Question 5 Explain the iterator function?"
   ]
  },
  {
   "cell_type": "code",
   "execution_count": 12,
   "id": "ff6bf1f3",
   "metadata": {},
   "outputs": [
    {
     "name": "stdout",
     "output_type": "stream",
     "text": [
      "[1, 4, 9, 16, 25]\n"
     ]
    }
   ],
   "source": [
    "def squares(n):\n",
    "    for i in range(1, n+1):\n",
    "        yield i*i\n",
    "\n",
    "print(list(squares(5)))"
   ]
  },
  {
   "cell_type": "markdown",
   "id": "c0b31eaa",
   "metadata": {},
   "source": [
    "## Question 6  Write a code that generates the squares of numbers from 1 to n using a generator?"
   ]
  },
  {
   "cell_type": "code",
   "execution_count": 13,
   "id": "646dfe4a",
   "metadata": {},
   "outputs": [
    {
     "name": "stdout",
     "output_type": "stream",
     "text": [
      "[1, 2, 3, 4, 5, 6, 7, 8, 9, 11]\n"
     ]
    }
   ],
   "source": [
    "def palindromes_up_to(n):\n",
    "    def is_pal(x): s=str(x); return s==s[::-1]\n",
    "    for i in range(1, n+1):\n",
    "        if is_pal(i): yield i\n",
    "\n",
    "print(list(palindromes_up_to(20)))"
   ]
  },
  {
   "cell_type": "markdown",
   "id": "82c1fab9",
   "metadata": {},
   "source": [
    "## Question 7  Write a code that generates palindromic numbers up to n using a generator?"
   ]
  },
  {
   "cell_type": "code",
   "execution_count": 14,
   "id": "3ddf8761",
   "metadata": {},
   "outputs": [
    {
     "name": "stdout",
     "output_type": "stream",
     "text": [
      "[2, 4, 6, 8, 10]\n"
     ]
    }
   ],
   "source": [
    "def evens(n):\n",
    "    for i in range(2, n+1, 2):\n",
    "        yield i\n",
    "\n",
    "print(list(evens(10)))"
   ]
  },
  {
   "cell_type": "markdown",
   "id": "4f433e96",
   "metadata": {},
   "source": [
    "## Question 8 Write a code that generates even numbers from 2 to n using a generator?"
   ]
  },
  {
   "cell_type": "code",
   "execution_count": 15,
   "id": "c029c2e4",
   "metadata": {},
   "outputs": [
    {
     "name": "stdout",
     "output_type": "stream",
     "text": [
      "[1, 2, 4, 8, 16]\n"
     ]
    }
   ],
   "source": [
    "def powers_of_two(n):\n",
    "    p = 1\n",
    "    while p <= n:\n",
    "        yield p\n",
    "        p *= 2\n",
    "\n",
    "print(list(powers_of_two(20)))"
   ]
  },
  {
   "cell_type": "code",
   "execution_count": null,
   "id": "302aa897",
   "metadata": {},
   "outputs": [],
   "source": []
  }
 ],
 "metadata": {
  "kernelspec": {
   "display_name": "Python 3 (ipykernel)",
   "language": "python",
   "name": "python3"
  },
  "language_info": {
   "codemirror_mode": {
    "name": "ipython",
    "version": 3
   },
   "file_extension": ".py",
   "mimetype": "text/x-python",
   "name": "python",
   "nbconvert_exporter": "python",
   "pygments_lexer": "ipython3",
   "version": "3.11.5"
  }
 },
 "nbformat": 4,
 "nbformat_minor": 5
}
