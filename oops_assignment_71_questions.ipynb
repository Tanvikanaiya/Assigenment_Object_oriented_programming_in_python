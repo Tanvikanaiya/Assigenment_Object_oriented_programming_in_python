{
 "cells": [
  {
   "cell_type": "code",
   "execution_count": null,
   "id": "6e8cf1d5",
   "metadata": {
    "lines_to_next_cell": 0
   },
   "outputs": [],
   "source": []
  },
  {
   "cell_type": "markdown",
   "id": "0de434d6",
   "metadata": {},
   "source": [
    "OOPS Assignment — 71 Questions (Question -> Code -> Output)\n",
    "Generated to match the structure: question comment, code, expected output comment.\n",
    "NOTE: This file is intended for uploading to GitHub. Run it to see sample outputs."
   ]
  },
  {
   "cell_type": "markdown",
   "id": "243681be",
   "metadata": {},
   "source": [
    "------------------------------\n",
    "Part A - Functions, Iterators & Generators (Questions 1 - 25)\n",
    "------------------------------"
   ]
  },
  {
   "cell_type": "markdown",
   "id": "58f5d3ef",
   "metadata": {},
   "source": [
    "Question 1: Explain importance of functions (answer in comment).\n",
    "Functions promote reusability, modularity, readability, and easier testing."
   ]
  },
  {
   "cell_type": "code",
   "execution_count": null,
   "id": "5f6332d9",
   "metadata": {
    "lines_to_next_cell": 1
   },
   "outputs": [],
   "source": [
    "# Question 2: Greet students\n",
    "def q2_greet_students(names):\n",
    "    for name in names:\n",
    "        print(f\"Hello, {name}!\")"
   ]
  },
  {
   "cell_type": "code",
   "execution_count": null,
   "id": "904fd44b",
   "metadata": {
    "lines_to_next_cell": 2
   },
   "outputs": [],
   "source": [
    "q2_greet_students(['Tanvi','Arun'])\n",
    "# Hello, Tanvi!  Hello, Arun!"
   ]
  },
  {
   "cell_type": "code",
   "execution_count": null,
   "id": "bcd71e21",
   "metadata": {},
   "outputs": [],
   "source": [
    "# Question 3: print vs return demonstration\n",
    "def q3_add_and_print(a,b): print(a+b)\n",
    "def q3_add_and_return(a,b): return a+b\n",
    "q3_add_and_print(2,3)   # prints 5\n",
    "print(q3_add_and_return(2,3))  # 5"
   ]
  },
  {
   "cell_type": "code",
   "execution_count": null,
   "id": "266f3a91",
   "metadata": {
    "lines_to_next_cell": 2
   },
   "outputs": [],
   "source": [
    "# Question 4: *args and **kwargs\n",
    "def q4_demo(a, *args, **kwargs): return a, args, kwargs\n",
    "print(q4_demo(1,2,3,x=10))\n",
    "# (1, (2, 3), {'x': 10})"
   ]
  },
  {
   "cell_type": "markdown",
   "id": "3f3f50dc",
   "metadata": {},
   "source": [
    "Question 5: Explain iterator function (commented)\n",
    "Iterator: object implementing __iter__() returning iterator; iterator has __next__()."
   ]
  },
  {
   "cell_type": "code",
   "execution_count": null,
   "id": "4a1a28a4",
   "metadata": {
    "lines_to_next_cell": 2
   },
   "outputs": [],
   "source": [
    "# Question 6: Squares generator\n",
    "def q6_squares(n):\n",
    "    for i in range(1, n+1): yield i*i\n",
    "print(list(q6_squares(5)))\n",
    "# [1,4,9,16,25]"
   ]
  },
  {
   "cell_type": "code",
   "execution_count": null,
   "id": "b19ef4a4",
   "metadata": {
    "lines_to_next_cell": 2
   },
   "outputs": [],
   "source": [
    "# Question 7: Palindromic numbers generator\n",
    "def q7_palindromes(n):\n",
    "    for i in range(1,n+1):\n",
    "        s=str(i)\n",
    "        if s==s[::-1]: yield i\n",
    "print(list(q7_palindromes(30)))\n",
    "# [1,2,3,4,5,6,7,8,9,11,22]"
   ]
  },
  {
   "cell_type": "code",
   "execution_count": null,
   "id": "47835664",
   "metadata": {
    "lines_to_next_cell": 2
   },
   "outputs": [],
   "source": [
    "# Question 8: Even numbers generator\n",
    "def q8_evens(n):\n",
    "    for i in range(2,n+1,2): yield i\n",
    "print(list(q8_evens(10)))\n",
    "# [2,4,6,8,10]"
   ]
  },
  {
   "cell_type": "code",
   "execution_count": null,
   "id": "85b0f469",
   "metadata": {
    "lines_to_next_cell": 2
   },
   "outputs": [],
   "source": [
    "# Question 9: Powers of two generator\n",
    "def q9_powers_of_two(n):\n",
    "    p=1\n",
    "    while p<=n:\n",
    "        yield p; p*=2\n",
    "print(list(q9_powers_of_two(20)))\n",
    "# [1,2,4,8,16]"
   ]
  },
  {
   "cell_type": "code",
   "execution_count": null,
   "id": "97ec7996",
   "metadata": {
    "lines_to_next_cell": 2
   },
   "outputs": [],
   "source": [
    "# Question 10: Primes generator\n",
    "def q10_primes(n):\n",
    "    def is_prime(x):\n",
    "        if x<2: return False\n",
    "        if x%2==0: return x==2\n",
    "        r=int(x**0.5)\n",
    "        for d in range(3,r+1,2):\n",
    "            if x%d==0: return False\n",
    "        return True\n",
    "    for i in range(2,n+1):\n",
    "        if is_prime(i): yield i\n",
    "print(list(q10_primes(30)))\n",
    "# [2,3,5,7,11,13,17,19,23,29]"
   ]
  },
  {
   "cell_type": "code",
   "execution_count": null,
   "id": "a85cd6d3",
   "metadata": {
    "lines_to_next_cell": 2
   },
   "outputs": [],
   "source": [
    "# Question 11: Lambda sum\n",
    "q11_sum = lambda a,b: a+b\n",
    "print(q11_sum(3,4))\n",
    "# 7"
   ]
  },
  {
   "cell_type": "code",
   "execution_count": null,
   "id": "46bf4f06",
   "metadata": {
    "lines_to_next_cell": 2
   },
   "outputs": [],
   "source": [
    "# Question 12: Lambda square\n",
    "q12_square = lambda x: x*x\n",
    "print(q12_square(5))\n",
    "# 25"
   ]
  },
  {
   "cell_type": "code",
   "execution_count": null,
   "id": "21a3475c",
   "metadata": {
    "lines_to_next_cell": 2
   },
   "outputs": [],
   "source": [
    "# Question 13: Lambda even check\n",
    "q13_is_even = lambda x: x%2==0\n",
    "print(q13_is_even(6))\n",
    "# True"
   ]
  },
  {
   "cell_type": "code",
   "execution_count": null,
   "id": "fed03bb0",
   "metadata": {
    "lines_to_next_cell": 2
   },
   "outputs": [],
   "source": [
    "# Question 14: Lambda concat strings\n",
    "q14_concat = lambda a,b: a+ b\n",
    "print(q14_concat('Hi','!'))\n",
    "# Hi!"
   ]
  },
  {
   "cell_type": "code",
   "execution_count": null,
   "id": "72fe6279",
   "metadata": {
    "lines_to_next_cell": 2
   },
   "outputs": [],
   "source": [
    "# Question 15: Lambda max of 3\n",
    "q15_max3 = lambda a,b,c: a if a>=b and a>=c else (b if b>=c else c)\n",
    "print(q15_max3(5,9,7))\n",
    "# 9"
   ]
  },
  {
   "cell_type": "code",
   "execution_count": null,
   "id": "afa1331d",
   "metadata": {
    "lines_to_next_cell": 2
   },
   "outputs": [],
   "source": [
    "# Question 16: Squares of even numbers from list\n",
    "def q16_squares_of_evens(lst): return [x*x for x in lst if x%2==0]\n",
    "print(q16_squares_of_evens([1,2,3,4]))\n",
    "# [4,16]"
   ]
  },
  {
   "cell_type": "code",
   "execution_count": null,
   "id": "7c57569c",
   "metadata": {
    "lines_to_next_cell": 2
   },
   "outputs": [],
   "source": [
    "# Question 17: Product of positive numbers\n",
    "from functools import reduce\n",
    "def q17_product_of_positives(lst):\n",
    "    pos=[x for x in lst if x>0]\n",
    "    return reduce(lambda a,b: a*b, pos, 1)\n",
    "print(q17_product_of_positives([1,-2,3,4]))\n",
    "# 12"
   ]
  },
  {
   "cell_type": "code",
   "execution_count": null,
   "id": "87b12bfa",
   "metadata": {
    "lines_to_next_cell": 2
   },
   "outputs": [],
   "source": [
    "# Question 18: Double odd numbers values\n",
    "def q18_double_odds(lst): return [x*2 if x%2 else x for x in lst]\n",
    "print(q18_double_odds([1,2,3,4]))\n",
    "# [2,2,6,4]"
   ]
  },
  {
   "cell_type": "code",
   "execution_count": null,
   "id": "d07e82c8",
   "metadata": {
    "lines_to_next_cell": 2
   },
   "outputs": [],
   "source": [
    "# Question 19: Sum of cubes\n",
    "def q19_sum_of_cubes(lst): return sum(x**3 for x in lst)\n",
    "print(q19_sum_of_cubes([1,2,3]))\n",
    "# 36"
   ]
  },
  {
   "cell_type": "code",
   "execution_count": null,
   "id": "02d1ed52",
   "metadata": {
    "lines_to_next_cell": 2
   },
   "outputs": [],
   "source": [
    "# Question 20: Filter out primes from list\n",
    "def q20_filter_out_primes(lst):\n",
    "    def is_prime(x):\n",
    "        if x<2: return False\n",
    "        if x%2==0: return x==2\n",
    "        for d in range(3,int(x**0.5)+1,2):\n",
    "            if x%d==0: return False\n",
    "        return True\n",
    "    return [x for x in lst if not is_prime(x)]\n",
    "print(q20_filter_out_primes([2,3,4,5,6,7,8,9]))\n",
    "# [4,6,8,9]"
   ]
  },
  {
   "cell_type": "code",
   "execution_count": null,
   "id": "dbb0cfee",
   "metadata": {},
   "outputs": [],
   "source": [
    "# Question 21-25: (Repeats of earlier lambda tasks) provide alias functions\n",
    "q21_sum = q11_sum; q22_square = q12_square; q23_is_even = q13_is_even\n",
    "q24_concat = q14_concat; q25_max3 = q15_max3"
   ]
  },
  {
   "cell_type": "markdown",
   "id": "91baf333",
   "metadata": {},
   "source": [
    "------------------------------\n",
    "Part B - OOP, Inheritance, Polymorphism, Abstraction, Encapsulation (Questions 26 - 50)\n",
    "------------------------------"
   ]
  },
  {
   "cell_type": "markdown",
   "id": "805a12bc",
   "metadata": {},
   "source": [
    "Question 26: What is encapsulation? (comment answer)\n",
    "Encapsulation bundles data and methods; hides internals and enforces interfaces."
   ]
  },
  {
   "cell_type": "markdown",
   "id": "5f51ddce",
   "metadata": {},
   "source": [
    "Question 27: Access modifiers in Python (comment)\n",
    "Python uses naming conventions: public, _protected, __private (name mangling)."
   ]
  },
  {
   "cell_type": "markdown",
   "id": "ded8f1ff",
   "metadata": {},
   "source": [
    "Question 28: What is inheritance? (comment)\n",
    "Inheritance allows a class to derive properties/methods from another class."
   ]
  },
  {
   "cell_type": "markdown",
   "id": "8ac9a4a8",
   "metadata": {},
   "source": [
    "Question 29: Define polymorphism (comment)\n",
    "Polymorphism: same interface, different implementations."
   ]
  },
  {
   "cell_type": "markdown",
   "id": "67b94b80",
   "metadata": {},
   "source": [
    "Question 30: Method overriding explanation (comment)\n",
    "Overriding replaces parent method in subclass with new implementation."
   ]
  },
  {
   "cell_type": "code",
   "execution_count": null,
   "id": "2e452337",
   "metadata": {
    "lines_to_next_cell": 2
   },
   "outputs": [],
   "source": [
    "# Question 31: Animal and Dog classes with make_sound\n",
    "class q31_Animal:\n",
    "    def __init__(self,name='Unknown'): self.name=name\n",
    "    def make_sound(self): print(\"Generic animal sound\")\n",
    "class q31_Dog(q31_Animal):\n",
    "    def make_sound(self): print(\"Woof!\")\n",
    "a=q31_Animal(); d=q31_Dog(); a.make_sound(); d.make_sound()\n",
    "# Generic animal sound\n",
    "# Woof!"
   ]
  },
  {
   "cell_type": "code",
   "execution_count": null,
   "id": "4dcd3a59",
   "metadata": {
    "lines_to_next_cell": 2
   },
   "outputs": [],
   "source": [
    "# Question 32: Animal.move and Dog override\n",
    "class q32_Animal:\n",
    "    def move(self): print(\"Animal moves\")\n",
    "class q32_Dog(q32_Animal):\n",
    "    def move(self): print(\"Dog runs\")\n",
    "q32_Dog().move()\n",
    "# Dog runs"
   ]
  },
  {
   "cell_type": "code",
   "execution_count": null,
   "id": "9887745c",
   "metadata": {
    "lines_to_next_cell": 2
   },
   "outputs": [],
   "source": [
    "# Question 33: Multiple inheritance DogMammal\n",
    "class q33_Mammal:\n",
    "    def reproduce(self): print(\"Giving birth to live young.\")\n",
    "class q33_DogMammal(q31_Dog, q33_Mammal):\n",
    "    pass\n",
    "q33_DogMammal().reproduce()\n",
    "# Giving birth to live young."
   ]
  },
  {
   "cell_type": "code",
   "execution_count": null,
   "id": "8ce78101",
   "metadata": {
    "lines_to_next_cell": 2
   },
   "outputs": [],
   "source": [
    "# Question 34: GermanShepherd overriding make_sound\n",
    "class q34_GermanShepherd(q31_Dog):\n",
    "    def make_sound(self): print(\"Bark!\")\n",
    "q34_GermanShepherd().make_sound()\n",
    "# Bark!"
   ]
  },
  {
   "cell_type": "code",
   "execution_count": null,
   "id": "1165f1da",
   "metadata": {
    "lines_to_next_cell": 2
   },
   "outputs": [],
   "source": [
    "# Question 35: Constructors in Animal and Dog\n",
    "class q35_Animal:\n",
    "    def __init__(self, species): self.species=species\n",
    "class q35_Dog(q35_Animal):\n",
    "    def __init__(self, species, name): super().__init__(species); self.name=name\n",
    "dog=q35_Dog('Canine','Tom'); print(dog.species, dog.name)\n",
    "# Canine Tom"
   ]
  },
  {
   "cell_type": "markdown",
   "id": "e2b26db8",
   "metadata": {},
   "source": [
    "Question 36: Abstraction in Python (comment)\n",
    "Use abc.ABC and @abstractmethod to define abstract classes/methods."
   ]
  },
  {
   "cell_type": "markdown",
   "id": "c3109879",
   "metadata": {},
   "source": [
    "Question 37: Importance of abstraction (comment)\n",
    "Abstraction separates interface from implementation, simplifies usage and maintenance."
   ]
  },
  {
   "cell_type": "markdown",
   "id": "7875d1b7",
   "metadata": {},
   "source": [
    "Question 38: Abstract vs regular methods (comment)\n",
    "Abstract methods must be implemented by subclasses; regular methods have body."
   ]
  },
  {
   "cell_type": "markdown",
   "id": "3b9cf2a9",
   "metadata": {},
   "source": [
    "Question 39: Achieve abstraction via interfaces (comment)\n",
    "Use ABCs as interfaces; require methods to be implemented by subclasses."
   ]
  },
  {
   "cell_type": "code",
   "execution_count": null,
   "id": "f71a29d9",
   "metadata": {
    "lines_to_next_cell": 2
   },
   "outputs": [],
   "source": [
    "# Question 40: Example of common interface (Shape/Rectangle)\n",
    "from abc import ABC, abstractmethod\n",
    "class q40_Shape(ABC):\n",
    "    @abstractmethod\n",
    "    def area(self): pass\n",
    "class q40_Rect(q40_Shape):\n",
    "    def __init__(self,w,h): self.w,self.h=w,h\n",
    "    def area(self): return self.w*self.h\n",
    "print(q40_Rect(3,4).area())\n",
    "# 12"
   ]
  },
  {
   "cell_type": "markdown",
   "id": "c366cd4e",
   "metadata": {},
   "source": [
    "Question 41: Polymorphism via overriding (comment)\n",
    "Subclasses implement same method; caller uses base type."
   ]
  },
  {
   "cell_type": "code",
   "execution_count": null,
   "id": "15b4b344",
   "metadata": {
    "lines_to_next_cell": 2
   },
   "outputs": [],
   "source": [
    "# Question 42: Base and subclass example (polymorphism)\n",
    "class q42_Base:\n",
    "    def action(self): print(\"Base\")\n",
    "class q42_Sub(q42_Base):\n",
    "    def action(self): print(\"Sub\")\n",
    "for obj in [q42_Base(), q42_Sub()]: obj.action()\n",
    "# Base  Sub"
   ]
  },
  {
   "cell_type": "code",
   "execution_count": null,
   "id": "0180d6f8",
   "metadata": {
    "lines_to_next_cell": 2
   },
   "outputs": [],
   "source": [
    "# Question 43: Multiple subclasses overriding\n",
    "class q43_A(q42_Base): \n",
    "    def action(self): print(\"A\")\n",
    "class q43_B(q42_Base):\n",
    "    def action(self): print(\"B\")\n",
    "for obj in [q43_A(), q43_B()]: obj.action()\n",
    "# A  B"
   ]
  },
  {
   "cell_type": "markdown",
   "id": "9db6a000",
   "metadata": {},
   "source": [
    "Question 44: Polymorphism improves readability/reuse (comment)\n",
    "Write once, use many types — simpler client code."
   ]
  },
  {
   "cell_type": "code",
   "execution_count": null,
   "id": "d7cd87ec",
   "metadata": {
    "lines_to_next_cell": 2
   },
   "outputs": [],
   "source": [
    "# Question 45: Duck typing demonstration\n",
    "class q45_Duck:\n",
    "    def quack(self): print(\"quack\")\n",
    "class q45_Bird:\n",
    "    def quack(self): print(\"bird sound\")\n",
    "def q45_make_it_quack(x): x.quack()\n",
    "q45_make_it_quack(q45_Duck()); q45_make_it_quack(q45_Bird())\n",
    "# quack  bird sound"
   ]
  },
  {
   "cell_type": "markdown",
   "id": "ba007220",
   "metadata": {},
   "source": [
    "Question 46: How to achieve encapsulation in Python (comment)\n",
    "Use name mangling (__attr) and properties to hide internals."
   ]
  },
  {
   "cell_type": "code",
   "execution_count": null,
   "id": "3421744b",
   "metadata": {
    "lines_to_next_cell": 2
   },
   "outputs": [],
   "source": [
    "# Question 47: Can encapsulation be bypassed? (comment+example)\n",
    "class q47_Test:\n",
    "    def __init__(self): self.__hidden=5\n",
    "t=q47_Test()\n",
    "# Bypass via _ClassName__hidden if needed (not recommended)\n",
    "# print(t._q47_Test__hidden)  # would show 5"
   ]
  },
  {
   "cell_type": "code",
   "execution_count": null,
   "id": "7b800a2d",
   "metadata": {
    "lines_to_next_cell": 2
   },
   "outputs": [],
   "source": [
    "# Question 48: BankAccount with private balance\n",
    "class q48_BankAccount:\n",
    "    def __init__(self, owner, balance=0.0):\n",
    "        self.owner=owner; self.__balance=float(balance)\n",
    "    def deposit(self,amt):\n",
    "        if amt<=0: raise ValueError(\"Positive amount\"); self.__balance+=amt\n",
    "    def withdraw(self,amt):\n",
    "        if amt>self.__balance: raise ValueError(\"Insufficient\")\n",
    "        self.__balance-=amt\n",
    "    def get_balance(self): return self.__balance\n",
    "acct=q48_BankAccount('Tanvi',100); acct.deposit(50); print(acct.get_balance())\n",
    "# 150.0"
   ]
  },
  {
   "cell_type": "code",
   "execution_count": null,
   "id": "8788363f",
   "metadata": {
    "lines_to_next_cell": 2
   },
   "outputs": [],
   "source": [
    "# Question 49: Person class with private name/email and getter/setter\n",
    "class q49_Person:\n",
    "    def __init__(self,name,email):\n",
    "        self.__name=name; self.__email=email\n",
    "    @property\n",
    "    def email(self): return self.__email\n",
    "    @email.setter\n",
    "    def email(self,val):\n",
    "        if '@' not in val: raise ValueError(\"Invalid\"); self.__email=val\n",
    "p=q49_Person('Tanvi','t@example.com'); print(p.email); p.email='ni@x.com'; print(p.email)\n",
    "# t@example.com  ni@x.com"
   ]
  },
  {
   "cell_type": "markdown",
   "id": "f695e8f8",
   "metadata": {
    "lines_to_next_cell": 2
   },
   "source": [
    "Question 50: Why encapsulation is a pillar? (comment)\n",
    "Encapsulation protects state, enforces invariants, and reduces coupling."
   ]
  },
  {
   "cell_type": "markdown",
   "id": "7094a574",
   "metadata": {},
   "source": [
    "------------------------------\n",
    "Part C - Decorators, Static/Class Methods, Dunder, Properties (Questions 51 - 71)\n",
    "------------------------------"
   ]
  },
  {
   "cell_type": "code",
   "execution_count": null,
   "id": "73d0bd0c",
   "metadata": {
    "lines_to_next_cell": 2
   },
   "outputs": [],
   "source": [
    "# Question 51: Decorator that prints before/after\n",
    "def q51_deco(fn):\n",
    "    def wrapper(*a,**k):\n",
    "        print(\"Before\"); res=fn(*a,**k); print(\"After\"); return res\n",
    "    return wrapper\n",
    "@q51_deco\n",
    "def q51_hi(): print(\"Hi\")\n",
    "q51_hi()\n",
    "# Before Hi After"
   ]
  },
  {
   "cell_type": "code",
   "execution_count": null,
   "id": "d794212f",
   "metadata": {
    "lines_to_next_cell": 2
   },
   "outputs": [],
   "source": [
    "# Question 52: Decorator that accepts args and prints function name with message\n",
    "def q52_msg(msg):\n",
    "    def deco(fn):\n",
    "        def wrapper(*a,**k):\n",
    "            print(f\"{msg}: {fn.__name__}\")\n",
    "            return fn(*a,**k)\n",
    "        return wrapper\n",
    "    return deco\n",
    "@q52_msg(\"Running\")\n",
    "def q52_test(): print(\"done\")\n",
    "q52_test()\n",
    "# Running: q52_test  done"
   ]
  },
  {
   "cell_type": "code",
   "execution_count": null,
   "id": "f21305af",
   "metadata": {
    "lines_to_next_cell": 2
   },
   "outputs": [],
   "source": [
    "# Question 53: Two decorators applied, check order\n",
    "def d1(fn):\n",
    "    def w(*a,**k):\n",
    "        print(\"D1 start\"); r=fn(*a,**k); print(\"D1 end\"); return r\n",
    "    return w\n",
    "def d2(fn):\n",
    "    def w(*a,**k):\n",
    "        print(\"D2 start\"); r=fn(*a,**k); print(\"D2 end\"); return r\n",
    "    return w\n",
    "@d1\n",
    "@d2\n",
    "def q53_func(): print(\"Core\")\n",
    "q53_func()\n",
    "# D1 start D2 start Core D2 end D1 end"
   ]
  },
  {
   "cell_type": "code",
   "execution_count": null,
   "id": "874af1b7",
   "metadata": {
    "lines_to_next_cell": 2
   },
   "outputs": [],
   "source": [
    "# Question 54: Decorator that forwards args (already done above) - demonstrate with wraps\n",
    "from functools import wraps\n",
    "def q54_preserve(fn):\n",
    "    @wraps(fn)\n",
    "    def wrapper(*a,**k): return fn(*a,**k)\n",
    "    return wrapper\n",
    "@q54_preserve\n",
    "def q54_add(a,b): return a+b\n",
    "print(q54_add(3,4))\n",
    "# 7"
   ]
  },
  {
   "cell_type": "code",
   "execution_count": null,
   "id": "4bd47b49",
   "metadata": {
    "lines_to_next_cell": 2
   },
   "outputs": [],
   "source": [
    "# Question 55: Calculator class with static add\n",
    "class q55_Calculator:\n",
    "    @staticmethod\n",
    "    def add(a,b): return a+b\n",
    "print(q55_Calculator.add(5,6))\n",
    "# 11"
   ]
  },
  {
   "cell_type": "code",
   "execution_count": null,
   "id": "440bc849",
   "metadata": {
    "lines_to_next_cell": 2
   },
   "outputs": [],
   "source": [
    "# Question 56: Employee class with classmethod count\n",
    "class q56_Employee:\n",
    "    _count=0\n",
    "    def __init__(self,name): self.name=name; q56_Employee._count+=1\n",
    "    @classmethod\n",
    "    def get_employee_count(cls): return cls._count\n",
    "e1=q56_Employee('A'); e2=q56_Employee('B'); print(q56_Employee.get_employee_count())\n",
    "# 2"
   ]
  },
  {
   "cell_type": "code",
   "execution_count": null,
   "id": "53b2d358",
   "metadata": {
    "lines_to_next_cell": 2
   },
   "outputs": [],
   "source": [
    "# Question 57: StringFormatter static reverse_string\n",
    "class q57_StringFormatter:\n",
    "    @staticmethod\n",
    "    def reverse_string(s): return s[::-1]\n",
    "print(q57_StringFormatter.reverse_string('Tanvi'))\n",
    "# ivnaT"
   ]
  },
  {
   "cell_type": "code",
   "execution_count": null,
   "id": "76d7f359",
   "metadata": {
    "lines_to_next_cell": 2
   },
   "outputs": [],
   "source": [
    "# Question 58: Circle class with classmethod calculate_area\n",
    "class q58_Circle:\n",
    "    pi=3.141592653589793\n",
    "    @classmethod\n",
    "    def calculate_area(cls,r): return cls.pi * r * r\n",
    "print(q58_Circle.calculate_area(3))\n",
    "# 28.274333882308138"
   ]
  },
  {
   "cell_type": "code",
   "execution_count": null,
   "id": "f5868203",
   "metadata": {
    "lines_to_next_cell": 2
   },
   "outputs": [],
   "source": [
    "# Question 59: TemperatureConverter static method\n",
    "class q59_TemperatureConverter:\n",
    "    @staticmethod\n",
    "    def celsius_to_fahrenheit(c): return c*9/5+32\n",
    "print(q59_TemperatureConverter.celsius_to_fahrenheit(0))\n",
    "# 32.0"
   ]
  },
  {
   "cell_type": "code",
   "execution_count": null,
   "id": "994134fe",
   "metadata": {
    "lines_to_next_cell": 2
   },
   "outputs": [],
   "source": [
    "# Question 60: Purpose of __str__ with example\n",
    "class q60_Person:\n",
    "    def __init__(self,name): self.name=name\n",
    "    def __str__(self): return f\"Person({self.name})\"\n",
    "print(str(q60_Person('Tanvi')))\n",
    "# Person(Tanvi)"
   ]
  },
  {
   "cell_type": "code",
   "execution_count": null,
   "id": "cd36d750",
   "metadata": {
    "lines_to_next_cell": 2
   },
   "outputs": [],
   "source": [
    "# Question 61: __len__ example\n",
    "class q61_Box:\n",
    "    def __init__(self,items): self.items=list(items)\n",
    "    def __len__(self): return len(self.items)\n",
    "print(len(q61_Box([1,2,3])))\n",
    "# 3"
   ]
  },
  {
   "cell_type": "code",
   "execution_count": null,
   "id": "8e962dfb",
   "metadata": {
    "lines_to_next_cell": 2
   },
   "outputs": [],
   "source": [
    "# Question 62: __add__ example\n",
    "class q62_Box:\n",
    "    def __init__(self,items): self.items=list(items)\n",
    "    def __add__(self,other): return q62_Box(self.items+other.items)\n",
    "    def __repr__(self): return f\"q62_Box({self.items})\"\n",
    "print(q62_Box([1,2])+q62_Box([3,4]))\n",
    "# q62_Box([1, 2, 3, 4])"
   ]
  },
  {
   "cell_type": "code",
   "execution_count": null,
   "id": "e9054b1c",
   "metadata": {
    "lines_to_next_cell": 2
   },
   "outputs": [],
   "source": [
    "# Question 63: __getitem__ example\n",
    "class q63_Seq:\n",
    "    def __init__(self,data): self.data=list(data)\n",
    "    def __getitem__(self,i): return self.data[i]\n",
    "s=q63_Seq([10,20,30]); print(s[1])\n",
    "# 20"
   ]
  },
  {
   "cell_type": "code",
   "execution_count": null,
   "id": "e2762310",
   "metadata": {
    "lines_to_next_cell": 2
   },
   "outputs": [],
   "source": [
    "# Question 64: __iter__ and __next__ example\n",
    "class q64_Iter:\n",
    "    def __init__(self,items): self.items=items; self.i=0\n",
    "    def __iter__(self): return self\n",
    "    def __next__(self):\n",
    "        if self.i>=len(self.items): raise StopIteration\n",
    "        v=self.items[self.i]; self.i+=1; return v\n",
    "it=q64_Iter([1,2,3])\n",
    "for x in it: print(x, end=' ')\n",
    "print()  # 1 2 3\n",
    "# 1 2 3"
   ]
  },
  {
   "cell_type": "code",
   "execution_count": null,
   "id": "e2d5cb44",
   "metadata": {
    "lines_to_next_cell": 2
   },
   "outputs": [],
   "source": [
    "# Question 65: Getter via @property example\n",
    "class q65_Rect:\n",
    "    def __init__(self,w,h): self._w=w; self._h=h\n",
    "    @property\n",
    "    def area(self): return self._w*self._h\n",
    "r=q65_Rect(2,3); print(r.area)\n",
    "# 6"
   ]
  },
  {
   "cell_type": "code",
   "execution_count": null,
   "id": "31a428cc",
   "metadata": {
    "lines_to_next_cell": 2
   },
   "outputs": [],
   "source": [
    "# Question 66: Setter via @property demonstration\n",
    "class q66_Student:\n",
    "    def __init__(self,score=0): self._score=score\n",
    "    @property\n",
    "    def score(self): return self._score\n",
    "    @score.setter\n",
    "    def score(self,val):\n",
    "        if not (0<=val<=100): raise ValueError(\"0-100\")\n",
    "        self._score=val\n",
    "s=q66_Student(50); s.score=80; print(s.score)\n",
    "# 80"
   ]
  },
  {
   "cell_type": "markdown",
   "id": "c3f5b05c",
   "metadata": {},
   "source": [
    "Question 67: Purpose of @property (comment)\n",
    "@property allows attribute access with method-like control (getter/setter)."
   ]
  },
  {
   "cell_type": "code",
   "execution_count": null,
   "id": "a7d7c19f",
   "metadata": {
    "lines_to_next_cell": 2
   },
   "outputs": [],
   "source": [
    "# Question 68: @deleter demo\n",
    "class q68_Thing:\n",
    "    def __init__(self,x): self._x=x\n",
    "    @property\n",
    "    def x(self): return self._x\n",
    "    @x.deleter\n",
    "    def x(self): del self._x\n",
    "t=q68_Thing(5); print(t.x); del t.x\n",
    "# 5"
   ]
  },
  {
   "cell_type": "markdown",
   "id": "ba71f4e9",
   "metadata": {},
   "source": [
    "Question 69: How encapsulation relates to properties (comment+example)\n",
    "Properties provide controlled access to private data, enforcing validation (see q66_Student)."
   ]
  },
  {
   "cell_type": "markdown",
   "id": "65972b8a",
   "metadata": {},
   "source": [
    "Question 70: Extra example — preserving metadata with wraps (already used q54_preserve)"
   ]
  },
  {
   "cell_type": "code",
   "execution_count": null,
   "id": "52bfcf1e",
   "metadata": {},
   "outputs": [],
   "source": [
    "# Question 71: Final wrap-up example: Combining many concepts\n",
    "@q51_deco\n",
    "def q71_demo(a,b): print(\"sum is\", a+b)\n",
    "q71_demo(3,4)\n",
    "# Before sum is 7 After"
   ]
  }
 ],
 "metadata": {
  "jupytext": {
   "cell_metadata_filter": "-all",
   "notebook_metadata_filter": "-all",
   "text_representation": {
    "extension": ".py",
    "format_name": "light"
   }
  },
  "kernelspec": {
   "display_name": "Python 3 (ipykernel)",
   "language": "python",
   "name": "python3"
  }
 },
 "nbformat": 4,
 "nbformat_minor": 5
}
